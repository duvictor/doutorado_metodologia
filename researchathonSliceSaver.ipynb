{
 "cells": [
  {
   "cell_type": "code",
   "execution_count": 6,
   "metadata": {
    "pycharm": {
     "name": "#%%\n"
    }
   },
   "outputs": [],
   "source": [
    "import SimpleITK as sitk\n",
    "import pandas as pd\n",
    "import numpy as np\n",
    "import os\n",
    "import matplotlib.pyplot as plt\n",
    "from ipywidgets import interact, interactive, IntSlider, ToggleButtons"
   ]
  },
  {
   "cell_type": "code",
   "execution_count": 7,
   "metadata": {
    "pycharm": {
     "name": "#%%\n"
    }
   },
   "outputs": [],
   "source": [
    "#Sets the path to the volumes and its masks\n",
    "exam_path = r'C:\\HIAE\\Researchathon\\exam_batch\\original_image_01RQ6S3D.nii'\n",
    "mask_path = r'C:\\HIAE\\Researchathon\\exam_batch\\pred_mask_01RQ6S3D.nii'"
   ]
  },
  {
   "cell_type": "code",
   "execution_count": 34,
   "metadata": {
    "pycharm": {
     "name": "#%% For the Exams\n"
    }
   },
   "outputs": [],
   "source": [
    "def read_volume(file_name):\n",
    "    # reads the file and load it into an image object\n",
    "    reader = sitk.ImageFileReader()\n",
    "    reader.LoadPrivateTagsOn()\n",
    "\n",
    "    # sets the file names to the dicom reader\n",
    "    #exam1 = os.path.join(lung_path1,file_name)\n",
    "\n",
    "    reader.SetFileName(file_name)\n",
    "    image = reader.Execute()\n",
    "    return sitk.GetArrayFromImage(image)"
   ]
  },
  {
   "cell_type": "code",
   "execution_count": 35,
   "metadata": {
    "pycharm": {
     "name": "#%%\n"
    }
   },
   "outputs": [],
   "source": [
    "image = read_volume(exam_path)\n",
    "mask  = read_volume(mask_path)"
   ]
  },
  {
   "cell_type": "code",
   "execution_count": 43,
   "metadata": {
    "pycharm": {
     "name": "#%%  Display\n"
    }
   },
   "outputs": [
    {
     "data": {
      "application/vnd.jupyter.widget-view+json": {
       "model_id": "30918e0bcc694dffae3137a48bc8d3ef",
       "version_major": 2,
       "version_minor": 0
      },
      "text/plain": [
       "interactive(children=(ToggleButtons(button_style='info', description='Useless:', options=('BC', 'GGO', 'Cons')…"
      ]
     },
     "metadata": {},
     "output_type": "display_data"
    }
   ],
   "source": [
    "# Create button values\n",
    "select_class = ToggleButtons(\n",
    "    options=['BC', 'GGO', 'Cons'],\n",
    "    description='Useless:',\n",
    "    disabled=False,\n",
    "    button_style='info',\n",
    "\n",
    ")\n",
    "# Create layer slider\n",
    "select_layer = IntSlider(min=0, max=image.shape[0], description='Select Layer', continuous_update=False)\n",
    "\n",
    "# Define a function for plotting images\n",
    "def plot_image(seg_class, layer):\n",
    "    print(f\"Plotting {layer}\")\n",
    "\n",
    "\n",
    "    #Use s to select the class\n",
    "\n",
    "    #if seg_class == 'BC':\n",
    "    #    s = 0\n",
    "    #elif seg_class == 'GGO':\n",
    "    #    s = 1\n",
    "    #elif seg_class == 'Cons':\n",
    "    #    s = 2\n",
    "    #else:\n",
    "    #    s = 3\n",
    "\n",
    "\n",
    "    img = image[layer,:,:]\n",
    "    m_s = mask[layer,:,:]\n",
    "\n",
    "    fig = plt.figure(figsize=(10,10))\n",
    "\n",
    "    fig.add_subplot(1, 2, 1)\n",
    "    plt.imshow(img, cmap='gray')\n",
    "    plt.axis('off')\n",
    "    # showing image\n",
    "    plt.title(\"Original\")\n",
    "\n",
    "    # Adds a subplot at the 2nd position\n",
    "    fig.add_subplot(1, 2, 2)\n",
    "    plt.imshow(m_s, cmap='gray')\n",
    "    plt.axis('off')\n",
    "    plt.title(\"Mask\")\n",
    "\n",
    "    plt.show()\n",
    "\n",
    "# Use the interactive() tool to create the visualization\n",
    "interactive(plot_image, seg_class=select_class, layer=select_layer)"
   ]
  }
 ],
 "metadata": {
  "kernelspec": {
   "display_name": "Python 3 (ipykernel)",
   "language": "python",
   "name": "python3"
  },
  "language_info": {
   "codemirror_mode": {
    "name": "ipython",
    "version": 3
   },
   "file_extension": ".py",
   "mimetype": "text/x-python",
   "name": "python",
   "nbconvert_exporter": "python",
   "pygments_lexer": "ipython3",
   "version": "3.7.0"
  }
 },
 "nbformat": 4,
 "nbformat_minor": 1
}